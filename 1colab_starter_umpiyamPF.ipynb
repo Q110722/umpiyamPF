{
  "cells": [
    {
      "cell_type": "markdown",
      "id": "bd7c17c5",
      "metadata": {
        "id": "bd7c17c5"
      },
      "source": [
        "# 📘 Google Colab Starter Notebook\n",
        " Google Drive 마운트 및 작업 디렉토리 설정을 자동화합니다.\n",
        "- 세션이 새로 시작될 때마다 이 셀을 먼저 실행해주세요.\n",
        "- 원하는 작업 폴더 경로로 `%cd` 경로를 수정해 사용하시면 됩니다.\n"
      ]
    },
    {
      "cell_type": "code",
      "execution_count": 2,
      "id": "d343dfd3",
      "metadata": {
        "colab": {
          "base_uri": "https://localhost:8080/"
        },
        "id": "d343dfd3",
        "outputId": "2955285d-bebd-43d6-bef4-9bc9fe244f1c"
      },
      "outputs": [
        {
          "output_type": "stream",
          "name": "stdout",
          "text": [
            "Mounted at /content/drive\n",
            "[Errno 20] Not a directory: '/content/drive/MyDrive/umpiyamPF'\n",
            "/content\n"
          ]
        }
      ],
      "source": [
        "from google.colab import drive\n",
        "drive.mount('/content/drive', force_remount=True)\n",
        "%cd /content/drive/MyDrive/umpiyamPF"
      ]
    },
    {
      "cell_type": "code",
      "execution_count": 3,
      "id": "5dcc84d4",
      "metadata": {
        "colab": {
          "base_uri": "https://localhost:8080/"
        },
        "id": "5dcc84d4",
        "outputId": "b4d98383-02d7-4213-d37b-aaef6bbf6854"
      },
      "outputs": [
        {
          "output_type": "stream",
          "name": "stdout",
          "text": [
            "Cloning into 'umpiyamPF'...\n",
            "remote: Enumerating objects: 212, done.\u001b[K\n",
            "remote: Counting objects: 100% (212/212), done.\u001b[K\n",
            "remote: Compressing objects: 100% (210/210), done.\u001b[K\n",
            "remote: Total 212 (delta 75), reused 0 (delta 0), pack-reused 0 (from 0)\u001b[K\n",
            "Receiving objects: 100% (212/212), 2.21 MiB | 12.58 MiB/s, done.\n",
            "Resolving deltas: 100% (75/75), done.\n",
            "/content/umpiyamPF\n"
          ]
        }
      ],
      "source": [
        "#!git config --global user.email \"mushbisu@gmail.com\"\n",
        "#!git config --global user.name \"Q110722\"\n",
        "!git clone https://github.com/Q110722/umpiyamPF.git\n",
        "%cd /content/umpiyamPF"
      ]
    },
    {
      "cell_type": "code",
      "source": [],
      "metadata": {
        "id": "6fbY7dT1zIYd"
      },
      "id": "6fbY7dT1zIYd",
      "execution_count": 3,
      "outputs": []
    }
  ],
  "metadata": {
    "colab": {
      "provenance": []
    },
    "language_info": {
      "name": "python"
    },
    "kernelspec": {
      "name": "python3",
      "display_name": "Python 3"
    }
  },
  "nbformat": 4,
  "nbformat_minor": 5
}
