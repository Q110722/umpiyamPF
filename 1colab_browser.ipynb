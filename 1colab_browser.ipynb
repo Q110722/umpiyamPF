{
  "nbformat": 4,
  "nbformat_minor": 0,
  "metadata": {
    "colab": {
      "provenance": []
    },
    "kernelspec": {
      "name": "python3",
      "display_name": "Python 3"
    },
    "language_info": {
      "name": "python"
    }
  },
  "cells": [
    {
      "cell_type": "code",
      "source": [
        "from google.colab import drive\n",
        "drive.mount('/content/drive', force_remount=True)"
      ],
      "metadata": {
        "id": "q1RPEJvbiG8i"
      },
      "execution_count": null,
      "outputs": []
    },
    {
      "cell_type": "code",
      "source": [
        "!git clone https://github.com/Q110722/umpiyamPF.git"
      ],
      "metadata": {
        "colab": {
          "base_uri": "https://localhost:8080/"
        },
        "id": "3PjoDZZQjXLY",
        "outputId": "daa2b7d1-891b-47c7-a82c-717e35c30217"
      },
      "execution_count": 10,
      "outputs": [
        {
          "output_type": "stream",
          "name": "stdout",
          "text": [
            "Cloning into 'umpiyamPF'...\n",
            "remote: Enumerating objects: 223, done.\u001b[K\n",
            "remote: Counting objects: 100% (223/223), done.\u001b[K\n",
            "remote: Compressing objects: 100% (221/221), done.\u001b[K\n",
            "remote: Total 223 (delta 82), reused 0 (delta 0), pack-reused 0 (from 0)\u001b[K\n",
            "Receiving objects: 100% (223/223), 2.22 MiB | 14.36 MiB/s, done.\n",
            "Resolving deltas: 100% (82/82), done.\n"
          ]
        }
      ]
    },
    {
      "cell_type": "code",
      "source": [
        "!git init\n",
        "!git config --global user.email \"mushbisu@gmail.com\"\n",
        "!git config --global user.name \"Q110722\"\n",
        "!git add 1colab_browser.ipynb\n",
        "!git commit -m \"정리\"\n",
        "!git push origin main"
      ],
      "metadata": {
        "id": "gGWMGmNa6CN8"
      },
      "execution_count": null,
      "outputs": []
    },
    {
      "cell_type": "code",
      "source": [
        "!git add \"ㅇ\".ipynb\n",
        "!git commit -m \"ㅇ\"\n",
        "!git push origin main"
      ],
      "metadata": {
        "id": "UJ1OCCa76QUA"
      },
      "execution_count": null,
      "outputs": []
    },
    {
      "cell_type": "code",
      "execution_count": 11,
      "metadata": {
        "id": "zNkGSTB-elww",
        "colab": {
          "base_uri": "https://localhost:8080/"
        },
        "outputId": "d04e7f47-9815-44a1-cbf8-515b5f860a0d"
      },
      "outputs": [
        {
          "output_type": "stream",
          "name": "stdout",
          "text": [
            "Requirement already satisfied: nbformat in /usr/local/lib/python3.11/dist-packages (5.10.4)\n",
            "Requirement already satisfied: fastjsonschema>=2.15 in /usr/local/lib/python3.11/dist-packages (from nbformat) (2.21.1)\n",
            "Requirement already satisfied: jsonschema>=2.6 in /usr/local/lib/python3.11/dist-packages (from nbformat) (4.23.0)\n",
            "Requirement already satisfied: jupyter-core!=5.0.*,>=4.12 in /usr/local/lib/python3.11/dist-packages (from nbformat) (5.7.2)\n",
            "Requirement already satisfied: traitlets>=5.1 in /usr/local/lib/python3.11/dist-packages (from nbformat) (5.7.1)\n",
            "Requirement already satisfied: attrs>=22.2.0 in /usr/local/lib/python3.11/dist-packages (from jsonschema>=2.6->nbformat) (25.3.0)\n",
            "Requirement already satisfied: jsonschema-specifications>=2023.03.6 in /usr/local/lib/python3.11/dist-packages (from jsonschema>=2.6->nbformat) (2024.10.1)\n",
            "Requirement already satisfied: referencing>=0.28.4 in /usr/local/lib/python3.11/dist-packages (from jsonschema>=2.6->nbformat) (0.36.2)\n",
            "Requirement already satisfied: rpds-py>=0.7.1 in /usr/local/lib/python3.11/dist-packages (from jsonschema>=2.6->nbformat) (0.24.0)\n",
            "Requirement already satisfied: platformdirs>=2.5 in /usr/local/lib/python3.11/dist-packages (from jupyter-core!=5.0.*,>=4.12->nbformat) (4.3.7)\n",
            "Requirement already satisfied: typing-extensions>=4.4.0 in /usr/local/lib/python3.11/dist-packages (from referencing>=0.28.4->jsonschema>=2.6->nbformat) (4.13.1)\n"
          ]
        }
      ],
      "source": [
        "##### 변환기\n",
        "!pip install nbformat\n",
        "\n",
        "import nbformat as nbf\n",
        "\n",
        "py_file = '/content/umpiyamPF/레거시/calculate_DPM_6th4_new.py'\n",
        "ipynb_file = '/content/calculate_DPM_6th4_new.ipynb'\n",
        "\n",
        "with open(py_file, 'r') as f:\n",
        "    code = f.read()\n",
        "\n",
        "nb = nbf.v4.new_notebook()\n",
        "nb['cells'] = [nbf.v4.new_code_cell(code)]\n",
        "\n",
        "with open(ipynb_file, 'w') as f:\n",
        "    nbf.write(nb, f)"
      ]
    },
    {
      "cell_type": "code",
      "source": [
        "##### 비교기\n",
        "import difflib\n",
        "import os\n",
        "\n",
        "file1 = '/content/umpiyamPF/calculate_log_assault_fix3.py'\n",
        "file2 = '/content/umpiyamPF/calculate_log_assault_fix4.py'\n",
        "\n",
        "# 파일 읽기\n",
        "with open(file1) as f1, open(file2) as f2:\n",
        "    lines1 = f1.readlines()\n",
        "    lines2 = f2.readlines()\n",
        "\n",
        "# diff\n",
        "differ = difflib.HtmlDiff(tabsize=4, wrapcolumn=80)\n",
        "diff_html = differ.make_file(lines1, lines2, fromdesc=file1, todesc=file2)\n",
        "\n",
        "# 파일명\n",
        "base1 = os.path.splitext(os.path.basename(file1))[0]\n",
        "base2 = os.path.splitext(os.path.basename(file2))[0]\n",
        "output_filename = f'diff_{base1}_vs_{base2}.html'\n",
        "\n",
        "# 저장\n",
        "with open(output_filename, 'w') as f:\n",
        "    f.write(diff_html)\n",
        "\n",
        "print(f\"HTML diff saved as: {output_filename}\")"
      ],
      "metadata": {
        "id": "QVIbx_TUetLG"
      },
      "execution_count": null,
      "outputs": []
    }
  ]
}