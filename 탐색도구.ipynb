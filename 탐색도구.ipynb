{
  "nbformat": 4,
  "nbformat_minor": 0,
  "metadata": {
    "colab": {
      "provenance": [],
      "authorship_tag": "ABX9TyPK26ym5W6vuIkNjmFv7NwB",
      "include_colab_link": true
    },
    "kernelspec": {
      "name": "python3",
      "display_name": "Python 3"
    },
    "language_info": {
      "name": "python"
    }
  },
  "cells": [
    {
      "cell_type": "markdown",
      "metadata": {
        "id": "view-in-github",
        "colab_type": "text"
      },
      "source": [
        "<a href=\"https://colab.research.google.com/github/Q110722/umpiyamPF/blob/main/%ED%83%90%EC%83%89%EB%8F%84%EA%B5%AC.ipynb\" target=\"_parent\"><img src=\"https://colab.research.google.com/assets/colab-badge.svg\" alt=\"Open In Colab\"/></a>"
      ]
    },
    {
      "cell_type": "code",
      "execution_count": null,
      "metadata": {
        "id": "zNkGSTB-elww"
      },
      "outputs": [],
      "source": [
        "!pip install nbformat\n",
        "\n",
        "# 변환\n",
        "import nbformat as nbf\n",
        "\n",
        "py_file = '/content/umpiyamPF/calculate_DPM_6th4_new.py'\n",
        "ipynb_file = '/content/calculate_DPM_6th4_new.ipynb'\n",
        "\n",
        "with open(py_file, 'r') as f:\n",
        "    code = f.read()\n",
        "\n",
        "nb = nbf.v4.new_notebook()\n",
        "nb['cells'] = [nbf.v4.new_code_cell(code)]\n",
        "\n",
        "with open(ipynb_file, 'w') as f:\n",
        "    nbf.write(nb, f)"
      ]
    },
    {
      "cell_type": "code",
      "source": [
        "import difflib\n",
        "import os\n",
        "\n",
        "file1 = '/content/umpiyamPF/calculate_log_assault_fix3.py'\n",
        "file2 = '/content/umpiyamPF/calculate_log_assault_fix4.py'\n",
        "\n",
        "# 파일 읽기\n",
        "with open(file1) as f1, open(file2) as f2:\n",
        "    lines1 = f1.readlines()\n",
        "    lines2 = f2.readlines()\n",
        "\n",
        "# diff 생성\n",
        "differ = difflib.HtmlDiff(tabsize=4, wrapcolumn=80)\n",
        "diff_html = differ.make_file(lines1, lines2, fromdesc=file1, todesc=file2)\n",
        "\n",
        "# 저장 파일명 생성\n",
        "base1 = os.path.splitext(os.path.basename(file1))[0]\n",
        "base2 = os.path.splitext(os.path.basename(file2))[0]\n",
        "output_filename = f'diff_{base1}_vs_{base2}.html'\n",
        "\n",
        "# 저장\n",
        "with open(output_filename, 'w') as f:\n",
        "    f.write(diff_html)\n",
        "\n",
        "print(f\"HTML diff saved as: {output_filename}\")"
      ],
      "metadata": {
        "id": "QVIbx_TUetLG"
      },
      "execution_count": null,
      "outputs": []
    }
  ]
}